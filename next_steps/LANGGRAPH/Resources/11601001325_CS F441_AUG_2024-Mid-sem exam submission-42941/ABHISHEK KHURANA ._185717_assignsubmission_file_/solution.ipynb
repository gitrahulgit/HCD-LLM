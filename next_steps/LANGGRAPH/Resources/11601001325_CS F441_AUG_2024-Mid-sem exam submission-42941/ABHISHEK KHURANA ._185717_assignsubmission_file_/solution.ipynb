{
 "cells": [
  {
   "cell_type": "code",
   "execution_count": 70,
   "metadata": {},
   "outputs": [],
   "source": [
    "%%capture --no-stderr\n",
    "%pip install -r requirements.txt"
   ]
  },
  {
   "cell_type": "code",
   "execution_count": 71,
   "metadata": {},
   "outputs": [],
   "source": [
    "import os, getpass\n",
    "\n",
    "def _set_env(var: str):\n",
    "    if not os.environ.get(var):\n",
    "        os.environ[var] = getpass.getpass(f\"{var}: \")\n",
    "\n",
    "_set_env(\"OPENAI_API_KEY\")\n",
    "\n",
    "\n",
    "_set_env(\"LANGCHAIN_API_KEY\")\n",
    "os.environ[\"LANGCHAIN_TRACING_V2\"] = \"true\"\n",
    "os.environ[\"LANGCHAIN_PROJECT\"] = \"langchain-academy\""
   ]
  },
  {
   "cell_type": "code",
   "execution_count": 72,
   "metadata": {},
   "outputs": [],
   "source": [
    "# Class Extraction Module:\n",
    "\n",
    "from langchain_openai import ChatOpenAI\n",
    "\n",
    "model = ChatOpenAI(model=\"gpt-4o\", temperature=0)\n",
    "\n",
    "def extract_classes(student_code):\n",
    "    prompt = f\"Extract all Java class definitions from the following code: {student_code}\"\n",
    "    response = model.invoke(prompt)\n",
    "    classes = response['choices'][0]['message']['content']\n",
    "    return classes.split('\\n')  # Assuming each class starts on a new line\n"
   ]
  },
  {
   "cell_type": "code",
   "execution_count": 73,
   "metadata": {},
   "outputs": [],
   "source": [
    "# Rubric Extraction Module:\n",
    "\n",
    "def extract_rubric_details(rubric_text):\n",
    "    prompt = f\"Extract rubric details for each individual Java class from the following rubric: {rubric_text}\"\n",
    "    response = model.invoke(prompt)\n",
    "    rubric_details = response['choices'][0]['message']['content']\n",
    "    return rubric_details\n"
   ]
  },
  {
   "cell_type": "code",
   "execution_count": 74,
   "metadata": {},
   "outputs": [],
   "source": [
    "# Initial Evaluation Module:\n",
    "\n",
    "def initial_evaluation(class_code, rubric, model_solution):\n",
    "    prompt = (f\"Evaluate the following class code: {class_code} \"\n",
    "              f\"using the rubric: {rubric} \"\n",
    "              f\"and the model solution: {model_solution}. Provide detailed comments about the correctness, errors and suggestions the numeric score.\")\n",
    "    response = model.invoke(prompt)\n",
    "    evaluation = response['choices'][0]['message']['content']\n",
    "    return evaluation\n"
   ]
  },
  {
   "cell_type": "code",
   "execution_count": 75,
   "metadata": {},
   "outputs": [],
   "source": [
    "# Review Evaluation Module:\n",
    "\n",
    "def review_evaluation(initial_evaluation):\n",
    "    prompt = f\"Review the following evaluation, make necessary corrections, and provide final assessment for each Java class: {initial_evaluation}\"\n",
    "    response = model.invoke(prompt)\n",
    "    final_review = response['choices'][0]['message']['content']\n",
    "    return final_review\n"
   ]
  },
  {
   "cell_type": "code",
   "execution_count": 76,
   "metadata": {},
   "outputs": [],
   "source": [
    "# Marks Extraction Module:\n",
    "\n",
    "def extract_marks(evaluation):\n",
    "    prompt = f\"Extract marks for each class from the following evaluation: {evaluation}\"\n",
    "    response = model.invoke(prompt)\n",
    "    marks_list = response['choices'][0]['message']['content'].strip()\n",
    "    return [float(mark) for mark in marks_list.split(',')]\n"
   ]
  },
  {
   "cell_type": "code",
   "execution_count": 77,
   "metadata": {},
   "outputs": [],
   "source": [
    "# Total Marks Calculation Module:\n",
    "\n",
    "def sum_marks(marks_list):\n",
    "    return sum(marks_list)\n"
   ]
  },
  {
   "cell_type": "code",
   "execution_count": 78,
   "metadata": {},
   "outputs": [
    {
     "data": {
      "image/jpeg": "[encoded data removed]",
      "text/plain": [
       "<IPython.core.display.Image object>"
      ]
     },
     "metadata": {},
     "output_type": "display_data"
    }
   ],
   "source": [
    "from langgraph.graph import StateGraph, MessagesState, START, END\n",
    "from IPython.display import Image, display\n",
    "\n",
    "\n",
    "# Define the functions (they must be callable)\n",
    "# The extract_classes, extract_rubric_details, initial_evaluation, etc. should already be defined as callable functions\n",
    "\n",
    "\n",
    "\n",
    "# Initialize the graph\n",
    "workflow = StateGraph(MessagesState)  # Properly initialize the graph without parameters\n",
    "\n",
    "# Add each node (state) individually to the workflow\n",
    "workflow.add_node(\"class_extraction\", extract_classes )\n",
    "workflow.add_node(\"rubric_extraction\", extract_rubric_details)\n",
    "workflow.add_node(\"initial_evaluation\", initial_evaluation)\n",
    "workflow.add_node(\"review_evaluation\", review_evaluation)\n",
    "workflow.add_node(\"marks_extraction\", extract_marks)\n",
    "workflow.add_node(\"total_marks\", sum_marks)\n",
    "\n",
    "# Define edges (connections between states)\n",
    "\n",
    "workflow.add_edge(START, \"class_extraction\")\n",
    "\n",
    "# Connecting class_extraction_state to rubric_extraction_state\n",
    "workflow.add_edge(\"class_extraction\", \"rubric_extraction\")\n",
    "\n",
    "# Connecting rubric_extraction_state to initial_evaluation_state\n",
    "workflow.add_edge(\"rubric_extraction\", \"initial_evaluation\")\n",
    "\n",
    "# Connecting initial_evaluation_state to review_evaluation_state\n",
    "workflow.add_edge(\"initial_evaluation\", \"review_evaluation\")\n",
    "\n",
    "# Connecting review_evaluation_state to marks_extraction_state\n",
    "workflow.add_edge(\"review_evaluation\", \"marks_extraction\")\n",
    "\n",
    "# Connecting marks_extraction_state to total_marks_state\n",
    "workflow.add_edge(\"marks_extraction\", \"total_marks\")\n",
    "\n",
    "workflow.add_edge(\"total_marks\", END)\n",
    "\n",
    "react_graph = workflow.compile()\n",
    "\n",
    "# Show\n",
    "display(Image(react_graph.get_graph(xray=True).draw_mermaid_png()))\n",
    "\n"
   ]
  },
  {
   "cell_type": "code",
   "execution_count": 79,
   "metadata": {},
   "outputs": [],
   "source": [
    "def read_markdown_file(file_path):\n",
    "    with open(file_path, 'r', encoding='utf-8') as file:\n",
    "        return file.read()\n",
    "\n",
    "# Read the contents of the markdown files\n",
    "student_solution = read_markdown_file('data/simple-scenario/student_solution.md')\n",
    "rubric = read_markdown_file('data/simple-scenario/rubric.md')\n",
    "question = read_markdown_file('data/simple-scenario/question.md')  # If you want to use this somewhere\n",
    "model_solution = read_markdown_file('data/simple-scenario/model_solution.md')\n"
   ]
  },
  {
   "cell_type": "code",
   "execution_count": null,
   "metadata": {},
   "outputs": [],
   "source": []
  },
  {
   "cell_type": "code",
   "execution_count": 81,
   "metadata": {},
   "outputs": [
    {
     "ename": "AttributeError",
     "evalue": "'CompiledStateGraph' object has no attribute 'start'",
     "output_type": "error",
     "traceback": [
      "\u001b[1;31m---------------------------------------------------------------------------\u001b[0m",
      "\u001b[1;31mAttributeError\u001b[0m                            Traceback (most recent call last)",
      "Cell \u001b[1;32mIn[81], line 2\u001b[0m\n\u001b[0;32m      1\u001b[0m \u001b[38;5;66;03m# Run the compiled graph with the input files you read earlier\u001b[39;00m\n\u001b[1;32m----> 2\u001b[0m result \u001b[38;5;241m=\u001b[39m \u001b[43mreact_graph\u001b[49m\u001b[38;5;241;43m.\u001b[39;49m\u001b[43mstart\u001b[49m(inputs\u001b[38;5;241m=\u001b[39m{\n\u001b[0;32m      3\u001b[0m     \u001b[38;5;124m\"\u001b[39m\u001b[38;5;124mstudent_code\u001b[39m\u001b[38;5;124m\"\u001b[39m: student_solution,\n\u001b[0;32m      4\u001b[0m     \u001b[38;5;124m\"\u001b[39m\u001b[38;5;124mrubric_text\u001b[39m\u001b[38;5;124m\"\u001b[39m: rubric,\n\u001b[0;32m      5\u001b[0m     \u001b[38;5;124m\"\u001b[39m\u001b[38;5;124mmodel_solution\u001b[39m\u001b[38;5;124m\"\u001b[39m: model_solution\n\u001b[0;32m      6\u001b[0m })\n\u001b[0;32m      8\u001b[0m \u001b[38;5;66;03m# Output the result\u001b[39;00m\n\u001b[0;32m      9\u001b[0m \u001b[38;5;28mprint\u001b[39m(\u001b[38;5;124m\"\u001b[39m\u001b[38;5;124mTotal Marks: \u001b[39m\u001b[38;5;124m\"\u001b[39m, result[\u001b[38;5;124m\"\u001b[39m\u001b[38;5;124mtotal_marks\u001b[39m\u001b[38;5;124m\"\u001b[39m])\n",
      "\u001b[1;31mAttributeError\u001b[0m: 'CompiledStateGraph' object has no attribute 'start'"
     ]
    }
   ],
   "source": []
  }
 ],
 "metadata": {
  "kernelspec": {
   "display_name": "exam",
   "language": "python",
   "name": "python3"
  },
  "language_info": {
   "codemirror_mode": {
    "name": "ipython",
    "version": 3
   },
   "file_extension": ".py",
   "mimetype": "text/x-python",
   "name": "python",
   "nbconvert_exporter": "python",
   "pygments_lexer": "ipython3",
   "version": "3.12.5"
  }
 },
 "nbformat": 4,
 "nbformat_minor": 2
}
