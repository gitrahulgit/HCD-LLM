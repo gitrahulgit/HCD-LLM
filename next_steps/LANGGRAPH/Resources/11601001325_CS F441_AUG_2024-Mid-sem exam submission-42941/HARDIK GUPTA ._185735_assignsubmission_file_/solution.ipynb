{
 "cells": [
  {
   "cell_type": "code",
   "execution_count": 1,
   "id": "83e84eff-63a9-47be-a44f-ff18742bf2c6",
   "metadata": {},
   "outputs": [
    {
     "name": "stdin",
     "output_type": "stream",
     "text": [
      "OPENAI_API_KEY:  ········\n"
     ]
    }
   ],
   "source": [
    "import os, getpass\n",
    "\n",
    "def _set_env(var: str):\n",
    "    if not os.environ.get(var):\n",
    "        os.environ[var] = getpass.getpass(f\"{var}: \")\n",
    "\n",
    "_set_env(\"OPENAI_API_KEY\")"
   ]
  },
  {
   "cell_type": "code",
   "execution_count": 27,
   "id": "0196f26b-e3db-4f35-8a8f-10246a50323a",
   "metadata": {},
   "outputs": [],
   "source": [
    "from langchain_openai import ChatOpenAI\n",
    "from langchain_core.messages import AIMessage, HumanMessage, SystemMessage\n",
    "from langgraph.graph import MessagesState\n",
    "import requests\n",
    "import json"
   ]
  },
  {
   "cell_type": "code",
   "execution_count": 36,
   "id": "d35d0560-ae5b-42ab-ad4d-c5aa263fdc82",
   "metadata": {},
   "outputs": [
    {
     "data": {
      "text/plain": [
       "[{'class_name': 'StringManipulator',\n",
       "  'class_code': 'import java.util.Scanner;\\n\\npublic class StringManipulator {\\n    public static void main(String[] args) {\\n        Scanner sc = new Scanner(System.in);\\n        System.out.print(\"Enter a string: \");\\n        String input = sc.nextLine();\\n        System.out.println(\"Original String: \" + input);\\n        System.out.println(\"Uppercase String: \" + input.toUpperCase());\\n        String reversed = new StringBuilder(input).reverse().toString();\\n        System.out.println(\"Reversed String: \" + reversed);\\n        System.out.println(\"Number of Characters: \" + input.length());\\n        sc.close();\\n    }\\n}'}]"
      ]
     },
     "execution_count": 36,
     "metadata": {},
     "output_type": "execute_result"
    }
   ],
   "source": [
    "# System message for context\n",
    "\n",
    "# Function to extract Java classes from markdown content via ChatGPT\n",
    "def extract_classes(path: str, state: MessagesState):\n",
    "    sys_msg = SystemMessage(content=\"You are a helpful assistant tasked with extracting Java classes and their code from the provided markdown content.\")\n",
    "    # Fetch the markdown content from the provided link\n",
    "    with open(path, 'r') as file:\n",
    "        markdown_content = file.read()\n",
    "    \n",
    "    # Prepare the human message containing the markdown content\n",
    "    human_msg = HumanMessage(content=f\"Extract the different Java classes from the following markdown content:\\n\\n{markdown_content}\\n\\nProvide a list of dictionaries where each dictionary contains the 'class_name' and 'class_code'. Clean the response to not have anything other than the list of dictionaries in the output.\")\n",
    "\n",
    "    # Update the state with the human message\n",
    "    state[\"messages\"].append(human_msg)\n",
    "    llm_for_extraction = ChatOpenAI(model=\"gpt-4o-mini\")\n",
    "    # Invoke the LLM using the provided system message and the state\n",
    "    extracted_classes = llm_for_extraction.invoke([sys_msg] + state[\"messages\"])\n",
    "    \n",
    "    # Parse the AI response (assuming it returns the correct format directly)\n",
    "    return extracted_classes\n",
    "\n",
    "# Example usage\n",
    "state = MessagesState(messages=[])\n",
    "link_to_markdown = \"C:/Hardik/m24-llm-midsem/data/simple-scenario/student_solution.md\"  # Replace with the actual link to the markdown file\n",
    "extracted_student_classes = json.loads(extract_classes(link_to_markdown, state).content)\n",
    "link_to_markdown = \"C:/Hardik/m24-llm-midsem/data/simple-scenario/model_solution.md\"  # Replace with the actual link to the markdown file\n",
    "extracted_model_classes = json.loads(extract_classes(link_to_markdown, state).content)\n",
    "extracted_model_classes"
   ]
  },
  {
   "cell_type": "code",
   "execution_count": 37,
   "id": "7d54de89-00a5-4dd5-a10c-c407ff989992",
   "metadata": {},
   "outputs": [
    {
     "data": {
      "text/plain": [
       "[{'class_name': 'StringManipulator',\n",
       "  'class_rubric': {'1. Program Correctness and Functionality': {'Total Marks': 70,\n",
       "    'Compilation and Execution': {'Total Marks': 10,\n",
       "     'Program compiles without errors': 5,\n",
       "     'Program runs without runtime errors': 5},\n",
       "    'User Input Handling': {'Total Marks': 10,\n",
       "     'Prompts the user to enter a string': 5,\n",
       "     \"Correctly reads and stores the user's input\": 5},\n",
       "    'String Manipulations': {'Total Marks': 40,\n",
       "     'Displaying Original String': {'Total Marks': 5,\n",
       "      'Outputs the original string with appropriate labeling': 5},\n",
       "     'Converting to Uppercase': {'Total Marks': 10,\n",
       "      'Converts the string to uppercase correctly using toUpperCase()': 5,\n",
       "      'Displays the uppercase string with appropriate labeling': 5},\n",
       "     'Reversing the String': {'Total Marks': 15,\n",
       "      'Accurately reverses the string using appropriate methods': 10,\n",
       "      'Displays the reversed string with appropriate labeling': 5},\n",
       "     'Counting Characters': {'Total Marks': 10,\n",
       "      'Correctly counts the number of characters in the string using length()': 5,\n",
       "      'Displays the character count with appropriate labeling': 5}},\n",
       "    'Output Formatting': {'Total Marks': 10,\n",
       "     'Uses clear and appropriate labels for all outputs': 5,\n",
       "     'Overall output matches the sample format provided': 5}},\n",
       "   '2. Code Quality and Style': {'Total Marks': 20,\n",
       "    'Readability and Organization': {'Total Marks': 10,\n",
       "     'Proper indentation and consistent spacing throughout the code': 5,\n",
       "     'Uses meaningful variable names and adheres to Java naming conventions': 5},\n",
       "    'Best Practices and Resource Management': {'Total Marks': 5,\n",
       "     'Effectively utilizes appropriate string methods': 3,\n",
       "     'Closes the Scanner object after use to prevent resource leaks': 2},\n",
       "    'Comments and Documentation': {'Total Marks': 5,\n",
       "     \"Includes a header comment with the author's name and a brief program description\": 2,\n",
       "     'Provides inline comments explaining key sections or any complex logic': 3}},\n",
       "   '3. Adherence to Assignment Constraints': {'Total Marks': 10,\n",
       "    'Single Class Requirement': {'Total Marks': 5,\n",
       "     'Entire program is contained within one class named StringManipulator': 5},\n",
       "    'Code Length Limit': {'Total Marks': 5,\n",
       "     'Code does not exceed 20 lines': 5}}}}]"
      ]
     },
     "execution_count": 37,
     "metadata": {},
     "output_type": "execute_result"
    }
   ],
   "source": [
    "# System message for context\n",
    "\n",
    "\n",
    "# Function to extract Java classes from markdown content via ChatGPT\n",
    "def extract_rubric(path: str, state: MessagesState):\n",
    "    sys_msg = SystemMessage(content=\"You are a helpful assistant tasked with extracting rubric for each Java class from the provided markdown content.\")\n",
    "    # Fetch the markdown content from the provided link\n",
    "    with open(path, 'r') as file:\n",
    "        markdown_content = file.read()\n",
    "    \n",
    "    # Prepare the human message containing the markdown content\n",
    "    human_msg = HumanMessage(content=f\"The following markdown contains rubric details for a Java submission:\\n\\n{markdown_content}\\n\\nPlease extract the rubric details relevant to each of the mentioned classes.\\n\\nProvide a list of dictionaries where each dictionary contains the 'class_name' and 'class_rubric'. Clean the response to not have anything other than the list of dictionaries in the output.\")\n",
    "\n",
    "    # Update the state with the human message\n",
    "    state[\"messages\"].append(human_msg)\n",
    "    llm_for_rubric_extraction = ChatOpenAI(model=\"gpt-4o-mini\")\n",
    "    # Invoke the LLM using the provided system message and the state\n",
    "    extracted_rubric = llm_for_rubric_extraction.invoke([sys_msg] + state[\"messages\"])\n",
    "    \n",
    "    # Parse the AI response (assuming it returns the correct format directly)\n",
    "    return extracted_rubric\n",
    "\n",
    "# Example usage\n",
    "state = MessagesState(messages=[])\n",
    "link_to_markdown = \"C:/Hardik/m24-llm-midsem/data/simple-scenario/rubric.md\"  # Replace with the actual link to the markdown file\n",
    "extracted_rubric = json.loads(extract_rubric(link_to_markdown, state).content)\n",
    "\n",
    "extracted_rubric"
   ]
  },
  {
   "cell_type": "code",
   "execution_count": 54,
   "id": "10f09623-ed29-48af-adf9-7c566c7f1725",
   "metadata": {},
   "outputs": [
    {
     "data": {
      "text/plain": [
       "[\"### Evaluation of Student's Java Code Submission\\n\\n**1. Program Correctness and Functionality (Total Marks: 70)**\\n\\n- **Compilation and Execution (Total Marks: 10)**\\n  - **Program compiles without errors (5/5)**: The code compiles successfully.\\n  - **Program runs without runtime errors (5/5)**: The program executes without crashing, but there are logical errors.\\n\\n- **User Input Handling (Total Marks: 10)**\\n  - **Prompts the user to enter a string (5/5)**: The prompt is correctly displayed.\\n  - **Correctly reads and stores the user's input (3/5)**: The use of `sc.next()` reads only the next token, which may not capture the entire string if there are spaces. It should use `sc.nextLine()` to read the full line.\\n\\n- **String Manipulations (Total Marks: 40)**\\n  - **Displaying Original String (5/5)**: Correctly outputs the original string with appropriate labeling.\\n  - **Converting to Uppercase (0/10)**: Incorrect method used (`toLowerCase()` instead of `toUpperCase()`).\\n  - **Reversing the String (5/15)**: The logic for reversing the string has an off-by-one error in the loop condition (`i <= input.length()`) which results in an `IndexOutOfBoundsException`. It should be `i < input.length()`. The method used for reversal is inefficient (string concatenation in a loop).\\n  - **Counting Characters (5/10)**: The character count is incorrectly calculated as `(input.length() - 1)`. It should simply be `input.length()`.\\n\\n- **Total for Program Correctness and Functionality: 38/70**\\n\\n---\\n\\n**2. Code Quality and Style (Total Marks: 20)**\\n\\n- **Readability and Organization (Total Marks: 10)**\\n  - **Proper indentation and consistent spacing throughout the code (5/5)**: The code is well-indented and spaced.\\n  - **Uses meaningful variable names and adheres to Java naming conventions (5/5)**: The variable names are clear and follow conventions.\\n\\n- **Best Practices and Resource Management (Total Marks: 5)**\\n  - **Effectively utilizes appropriate string methods (2/3)**: Some string methods are incorrectly used, but the intention is clear.\\n  - **Closes the Scanner object after use to prevent resource leaks (0/2)**: The Scanner object `sc` is not closed, which can lead to resource leaks.\\n\\n- **Comments and Documentation (Total Marks: 5)**\\n  - **Includes a header comment with the author's name and a brief program description (0/2)**: There are no comments or documentation.\\n  - **Provides inline comments explaining key sections or any complex logic (0/3)**: There are no inline comments.\\n\\n- **Total for Code Quality and Style: 12/20**\\n\\n---\\n\\n**3. Adherence to Assignment Constraints (Total Marks: 10)**\\n\\n- **Single Class Requirement (5/5)**: The program is contained within one class named `StringManipulator`.\\n- **Code Length Limit (5/5)**: The code does not exceed the 20-line limit.\\n\\n- **Total for Adherence to Assignment Constraints: 10/10**\\n\\n---\\n\\n### Final Scores\\n\\n- **Program Correctness and Functionality: 38/70**\\n- **Code Quality and Style: 12/20**\\n- **Adherence to Assignment Constraints: 10/10**\\n\\n### Overall Total Score: **60/100**\\n\\n### Comments and Suggestions for Improvement\\n\\n1. **Correctness**:\\n   - Change `sc.next()` to `sc.nextLine()` to read the full input string.\\n   - Use `input.toUpperCase()` instead of `input.toLowerCase()` to correctly convert to uppercase.\\n   - Fix the string reversal logic by changing the loop condition to `i < input.length()`, and consider using `StringBuilder` for efficient reversal.\\n   - Correctly count the characters using `input.length()` without subtracting 1.\\n\\n2. **Code Quality**:\\n   - Add comments at the beginning of the program to describe its purpose and functionality.\\n   - Include inline comments to explain complex logic or important steps in the code.\\n   - Always close the `Scanner` object (`sc.close()`) after its use to prevent resource leaks.\\n\\n3. **Testing**:\\n   - After making corrections, thoroughly test the program with various input strings, including those with spaces, to ensure all functionalities work as expected.\\n\\nBy addressing these issues, the student can significantly improve the correctness and quality of their code.\"]"
      ]
     },
     "execution_count": 54,
     "metadata": {},
     "output_type": "execute_result"
    }
   ],
   "source": [
    "\n",
    "# Function to evaluate student code based on model code and rubric\n",
    "def evaluate_student_code(student_code: str, model_code: str, rubric_content: str, state: MessagesState):\n",
    "    sys_msg = SystemMessage(content=\"You are a helpful assistant tasked with evaluating a student's Java code against a model solution based on a provided rubric. You will give numeric scores for each criterion and provide detailed comments, including correctness, errors, and suggestions for improvement.\")\n",
    "\n",
    "    # Prepare the human message containing the student code, model code, and rubric\n",
    "    human_msg = HumanMessage(content=f\"Here is a student's Java code submission:\\n\\n{student_code}\\n\\nAnd here is the correct model solution:\\n\\n{model_code}\\n\\nUsing the following rubric:\\n\\n{rubric_content}\\n\\nEvaluate the student's submission, providing a numeric score for each criterion from the rubric. Along with the score, give detailed comments on the correctness, errors, and suggestions for improvement.\")\n",
    "\n",
    "    # Update the state with the human message\n",
    "    state[\"messages\"].append(human_msg)\n",
    "    llm_for_evaluation = ChatOpenAI(model=\"gpt-4o-mini\")\n",
    "    # Invoke the LLM using the system message and the state\n",
    "    evaluation_response = llm_for_evaluation.invoke([sys_msg] + state[\"messages\"])\n",
    "    \n",
    "    # Parse the AI response (assuming it returns the correct format directly)\n",
    "    return evaluation_response\n",
    "\n",
    "def initial_evaluator(extracted_student_classes, extracted_model_classes, extracted_rubric):\n",
    "    evaluations=[]\n",
    "    for i in extracted_student_classes:\n",
    "        rubric=''\n",
    "        model=''\n",
    "        for class_dict in extracted_model_classes:\n",
    "            if class_dict.get('class_name') == i['class_name']:\n",
    "                model=class_dict['class_code']\n",
    "        for class_dict in extracted_rubric:\n",
    "            if class_dict.get('class_name') == i['class_name']:\n",
    "                rubric=class_dict['class_rubric']\n",
    "        state = MessagesState(messages=[])\n",
    "        evaluations.append(evaluate_student_code(i['class_code'], model, rubric, state).content)\n",
    "    return evaluations\n",
    "\n",
    "evaluations=initial_evaluator(extracted_student_classes, extracted_model_classes, extracted_rubric)\n",
    "evaluations"
   ]
  },
  {
   "cell_type": "code",
   "execution_count": 69,
   "id": "2b004b48-4e50-4b48-8614-f0970245e040",
   "metadata": {},
   "outputs": [
    {
     "ename": "IndexError",
     "evalue": "list index out of range",
     "output_type": "error",
     "traceback": [
      "\u001b[1;31m---------------------------------------------------------------------------\u001b[0m",
      "\u001b[1;31mIndexError\u001b[0m                                Traceback (most recent call last)",
      "Cell \u001b[1;32mIn[69], line 31\u001b[0m\n\u001b[0;32m     28\u001b[0m         evaluations\u001b[38;5;241m.\u001b[39mappend(reevaluate_student_code(i[\u001b[38;5;124m'\u001b[39m\u001b[38;5;124mclass_code\u001b[39m\u001b[38;5;124m'\u001b[39m], model, rubric, evaluations[x], state)\u001b[38;5;241m.\u001b[39mcontent)\n\u001b[0;32m     29\u001b[0m     \u001b[38;5;28;01mreturn\u001b[39;00m evaluations\n\u001b[1;32m---> 31\u001b[0m evaluations\u001b[38;5;241m=\u001b[39m\u001b[43mre_evaluator\u001b[49m\u001b[43m(\u001b[49m\u001b[43mextracted_student_classes\u001b[49m\u001b[43m,\u001b[49m\u001b[43m \u001b[49m\u001b[43mextracted_model_classes\u001b[49m\u001b[43m,\u001b[49m\u001b[43m \u001b[49m\u001b[43mextracted_rubric\u001b[49m\u001b[43m,\u001b[49m\u001b[43m \u001b[49m\u001b[43mevaluations\u001b[49m\u001b[43m)\u001b[49m\n\u001b[0;32m     32\u001b[0m evaluations\n",
      "Cell \u001b[1;32mIn[69], line 28\u001b[0m, in \u001b[0;36mre_evaluator\u001b[1;34m(extracted_student_classes, extracted_model_classes, extracted_rubric, evaluations)\u001b[0m\n\u001b[0;32m     26\u001b[0m             rubric\u001b[38;5;241m=\u001b[39mclass_dict[\u001b[38;5;124m'\u001b[39m\u001b[38;5;124mclass_rubric\u001b[39m\u001b[38;5;124m'\u001b[39m]\n\u001b[0;32m     27\u001b[0m     state \u001b[38;5;241m=\u001b[39m MessagesState(messages\u001b[38;5;241m=\u001b[39m[])\n\u001b[1;32m---> 28\u001b[0m     evaluations\u001b[38;5;241m.\u001b[39mappend(reevaluate_student_code(i[\u001b[38;5;124m'\u001b[39m\u001b[38;5;124mclass_code\u001b[39m\u001b[38;5;124m'\u001b[39m], model, rubric, \u001b[43mevaluations\u001b[49m\u001b[43m[\u001b[49m\u001b[43mx\u001b[49m\u001b[43m]\u001b[49m, state)\u001b[38;5;241m.\u001b[39mcontent)\n\u001b[0;32m     29\u001b[0m \u001b[38;5;28;01mreturn\u001b[39;00m evaluations\n",
      "\u001b[1;31mIndexError\u001b[0m: list index out of range"
     ]
    }
   ],
   "source": [
    "#does not run\n",
    "# PLEASE SKIP\n",
    "\n",
    "def reevaluate_student_code(student_code: str, model_code: str, rubric_content: str, prior_evaluation: str, state: MessagesState):\n",
    "    sys_msg = SystemMessage(content=\"You are a helpful assistant tasked with evaluating a student's Java code against a model solution based on a provided rubric. You will give numeric scores for each criterion and provide detailed comments, including correctness, errors, and suggestions for improvement.\")\n",
    "\n",
    "    # Prepare the human message containing the student code, model code, and rubric\n",
    "    human_msg = HumanMessage(content=f\"Here is a student's Java code submission:\\n\\n{student_code}\\n\\nAnd here is the correct model solution:\\n\\n{model_code}\\n\\nUsing the following rubric:\\n\\n{rubric_content}\\n\\nEvaluate the student's submission, providing a numeric score for each criterion from the rubric. Along with the score, give detailed comments on the correctness, errors, and suggestions for improvement.\")\n",
    "\n",
    "    # Update the state with the human message\n",
    "    state[\"messages\"].append(human_msg)\n",
    "    llm_for_evaluation = ChatOpenAI(model=\"gpt-4o-mini\")\n",
    "    # Invoke the LLM using the system message and the state\n",
    "    evaluation_response = llm_for_evaluation.invoke([sys_msg] + state[\"messages\"])\n",
    "    \n",
    "    # Parse the AI response (assuming it returns the correct format directly)\n",
    "    return evaluation_response\n",
    "\n",
    "def re_evaluator(extracted_student_classes, extracted_model_classes, extracted_rubric, evaluations):\n",
    "    evaluations=[]\n",
    "    for x, i in enumerate(extracted_student_classes):\n",
    "        rubric=''\n",
    "        model=''\n",
    "        for class_dict in extracted_model_classes:\n",
    "            if class_dict.get('class_name') == i['class_name']:\n",
    "                model=class_dict['class_code']\n",
    "        for class_dict in extracted_rubric:\n",
    "            if class_dict.get('class_name') == i['class_name']:\n",
    "                rubric=class_dict['class_rubric']\n",
    "        state = MessagesState(messages=[])\n",
    "        evaluations.append(reevaluate_student_code(i['class_code'], model, rubric, evaluations[x], state).content)\n",
    "    return evaluations\n",
    "\n",
    "reevaluations=re_evaluator(extracted_student_classes, extracted_model_classes, extracted_rubric, evaluations)\n",
    "reevaluations"
   ]
  },
  {
   "cell_type": "code",
   "execution_count": 70,
   "id": "420e7d27-4465-41b0-917d-2f3ce41a6cfd",
   "metadata": {},
   "outputs": [],
   "source": [
    "import ast\n",
    "\n",
    "def extract_marks(evaluation):\n",
    "    sys_msg = SystemMessage(content=\"You are a helpful assistant tasked with extracting stepwise makrs from the given evaluation.\")\n",
    "\n",
    "    # Prepare the human message containing the student code, model code, and rubric\n",
    "    human_msg = HumanMessage(content=f\"Here is a student's Java code evaluation:\\n\\n{evaluation}. Extract the stepwise marks given, and return a comma separated list of all the marks given for this question. Ensure that marks which have already been counted are not counted again. The output should be a clean list of numbers with no text anywhere.\")\n",
    "\n",
    "    # Update the state with the human message\n",
    "    state[\"messages\"].append(human_msg)\n",
    "    llm_for_extraction = ChatOpenAI(model=\"gpt-4o-mini\")\n",
    "    # Invoke the LLM using the system message and the state\n",
    "    extraction_response = llm_for_extraction.invoke([sys_msg] + state[\"messages\"])\n",
    "    \n",
    "    # Parse the AI response (assuming it returns the correct format directly)\n",
    "    return extraction_response\n",
    "\n",
    "def extract_marks_for_all_classes(evaluations):\n",
    "    marks=[]\n",
    "    for i in evaluations:\n",
    "        marks.extend(list(map(int, extract_marks(i).content.split(','))))\n",
    "    return marks\n",
    "\n",
    "list_of_marks=extract_marks_for_all_classes(evaluations)"
   ]
  },
  {
   "cell_type": "code",
   "execution_count": 64,
   "id": "4d3b2724-d774-4de1-a72b-67906a672001",
   "metadata": {},
   "outputs": [
    {
     "data": {
      "text/plain": [
       "[5, 5, 3, 5, 0, 5, 5, 5, 2, 0, 0, 5, 5, 10]"
      ]
     },
     "execution_count": 64,
     "metadata": {},
     "output_type": "execute_result"
    }
   ],
   "source": [
    "list_of_marks"
   ]
  },
  {
   "cell_type": "code",
   "execution_count": 25,
   "id": "52a15748-62cc-4163-ae01-05e71701d264",
   "metadata": {},
   "outputs": [],
   "source": [
    "def sum_marks(list_of_marks) -> int:\n",
    "    return sum(list_of_marks)\n",
    "\n",
    "tools = [sum_marks]\n",
    "llm = ChatOpenAI(model=\"gpt-4o-mini\")\n",
    "llm_with_tools = llm.bind_tools(tools)"
   ]
  },
  {
   "cell_type": "code",
   "execution_count": null,
   "id": "353ceaaf-089a-4396-a460-1312e8f24400",
   "metadata": {},
   "outputs": [],
   "source": [
    "#WILL NOT RUN\n",
    "\n",
    "from langgraph.graph import START, StateGraph\n",
    "from langgraph.prebuilt import tools_condition, ToolNode\n",
    "from IPython.display import Image, display\n",
    "\n",
    "# Graph\n",
    "builder = StateGraph(MessagesState)\n",
    "\n",
    "# Define nodes: these do the work\n",
    "builder.add_node(\"assistant\", assistant)\n",
    "builder.add_node(\"tools\", ToolNode(tools))\n",
    "\n",
    "# Define edges: these determine how the control flow moves\n",
    "builder.add_edge(START, \"assistant\")\n",
    "builder.add_conditional_edges(\n",
    "    \"assistant\",\n",
    "    # If the latest message (result) from assistant is a tool call -> tools_condition routes to tools\n",
    "    # If the latest message (result) from assistant is a not a tool call -> tools_condition routes to END\n",
    "    tools_condition,\n",
    ")\n",
    "builder.add_edge(\"tools\", \"assistant\")\n",
    "react_graph = builder.compile()\n",
    "\n",
    "# Show\n",
    "display(Image(react_graph.get_graph(xray=True).draw_mermaid_png()))"
   ]
  },
  {
   "cell_type": "code",
   "execution_count": 65,
   "id": "f540dbd2-d967-4731-95ff-272c121717b4",
   "metadata": {},
   "outputs": [],
   "source": [
    "#i did not have enough time to put it all in a chain, but the flow of the graph is a straight chain \n",
    "#from the start to the end with the functions/agents called in the order above"
   ]
  },
  {
   "cell_type": "code",
   "execution_count": null,
   "id": "1645c5e4-4bf4-4d56-adf3-0e6bd743da72",
   "metadata": {},
   "outputs": [],
   "source": [
    "Link to the chat:\n",
    "\n",
    "https://chatgpt.com/share/67065bd2-6234-800b-bc71-842393404dc9"
   ]
  }
 ],
 "metadata": {
  "kernelspec": {
   "display_name": "Python 3 (ipykernel)",
   "language": "python",
   "name": "python3"
  },
  "language_info": {
   "codemirror_mode": {
    "name": "ipython",
    "version": 3
   },
   "file_extension": ".py",
   "mimetype": "text/x-python",
   "name": "python",
   "nbconvert_exporter": "python",
   "pygments_lexer": "ipython3",
   "version": "3.12.0"
  }
 },
 "nbformat": 4,
 "nbformat_minor": 5
}
